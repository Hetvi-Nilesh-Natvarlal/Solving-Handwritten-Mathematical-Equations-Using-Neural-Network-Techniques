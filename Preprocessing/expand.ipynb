{
 "cells": [
  {
   "cell_type": "code",
   "execution_count": 1,
   "id": "7108fe30",
   "metadata": {},
   "outputs": [
    {
     "name": "stdout",
     "output_type": "stream",
     "text": [
      "6000\n"
     ]
    }
   ],
   "source": [
    "import cv2\n",
    "import numpy as np\n",
    "import os\n",
    "\n",
    "\n",
    "def show_image(img):\n",
    "    cv2.imshow(\"preview\", img)\n",
    "    cv2.waitKey(0)\n",
    "    cv2.destroyAllWindows()\n",
    "\n",
    "\n",
    "def rotate_symbol(img, angle):\n",
    "    _, img_binary = cv2.threshold(img, 127, 255, cv2.THRESH_BINARY_INV)\n",
    "    h, w = img.shape[:2]\n",
    "\n",
    "    center = (w / 2, h / 2)\n",
    "\n",
    "    rot_matrix = cv2.getRotationMatrix2D(center, angle, 1.0)\n",
    "    img_rotated = cv2.warpAffine(img_binary, rot_matrix, (w, h))\n",
    "\n",
    "    img_final = cv2.bitwise_not(img_rotated)\n",
    "\n",
    "    return img_final\n",
    "    # show_image(img_final)\n",
    "\n",
    "\n",
    "def expand_dataset(folder):\n",
    "    images = os.listdir(folder)\n",
    "    num_augmented = 6000 - len(images)\n",
    "    print(num_augmented)\n",
    "    i = 0\n",
    "\n",
    "    for filename in images:\n",
    "        img = cv2.imread(os.path.join(folder, filename), cv2.IMREAD_GRAYSCALE)\n",
    "\n",
    "        img_rotate_10 = rotate_symbol(img, 10)\n",
    "        # img_flip_lr = cv2.flip(img, 1)\n",
    "        img_rotate_180 = cv2.rotate(img, cv2.ROTATE_180)\n",
    "\n",
    "        # print(folder + '/augmented_' + str(i) + '_flip_lr.jpg')\n",
    "        # cv2.imwrite(folder + '/augmented_' + str(i) + '_flip_lr.jpg', img_flip_lr)\n",
    "        cv2.imwrite(folder + '/augmented_' + str(i) + '_rotate_180.jpg', img_rotate_180)\n",
    "        cv2.imwrite(folder + '/augmented_' + str(i) + '_rotate_10.jpg', img_rotate_10)\n",
    "        i += 2\n",
    "\n",
    "        if i > num_augmented+2:\n",
    "            break\n",
    "\n",
    "\n",
    "if __name__ == '__main__':\n",
    "    expand_dataset(r\"C:\\Users\\hetvi.LENOVO--520\\Solving Handwritten Mathematical Equations Using Neural Network Techniques\\Data\\int\")\n"
   ]
  }
 ],
 "metadata": {
  "kernelspec": {
   "display_name": "Python 3 (ipykernel)",
   "language": "python",
   "name": "python3"
  },
  "language_info": {
   "codemirror_mode": {
    "name": "ipython",
    "version": 3
   },
   "file_extension": ".py",
   "mimetype": "text/x-python",
   "name": "python",
   "nbconvert_exporter": "python",
   "pygments_lexer": "ipython3",
   "version": "3.9.12"
  }
 },
 "nbformat": 4,
 "nbformat_minor": 5
}
